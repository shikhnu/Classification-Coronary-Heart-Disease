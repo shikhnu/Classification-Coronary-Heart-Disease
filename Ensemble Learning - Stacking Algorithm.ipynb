{
 "cells": [
  {
   "cell_type": "markdown",
   "metadata": {},
   "source": [
    "## Importing basic libraries and reading the data:"
   ]
  },
  {
   "cell_type": "code",
   "execution_count": 1,
   "metadata": {},
   "outputs": [],
   "source": [
    "# Importing basic libraries\n",
    "import pandas as pd\n",
    "import numpy as np\n",
    "import matplotlib.pyplot as plt\n",
    "import seaborn as sns\n",
    "import warnings\n",
    "warnings.filterwarnings(\"ignore\")"
   ]
  },
  {
   "cell_type": "code",
   "execution_count": 2,
   "metadata": {},
   "outputs": [
    {
     "data": {
      "text/html": [
       "<div>\n",
       "<style scoped>\n",
       "    .dataframe tbody tr th:only-of-type {\n",
       "        vertical-align: middle;\n",
       "    }\n",
       "\n",
       "    .dataframe tbody tr th {\n",
       "        vertical-align: top;\n",
       "    }\n",
       "\n",
       "    .dataframe thead th {\n",
       "        text-align: right;\n",
       "    }\n",
       "</style>\n",
       "<table border=\"1\" class=\"dataframe\">\n",
       "  <thead>\n",
       "    <tr style=\"text-align: right;\">\n",
       "      <th></th>\n",
       "      <th>male</th>\n",
       "      <th>age</th>\n",
       "      <th>education</th>\n",
       "      <th>currentSmoker</th>\n",
       "      <th>cigsPerDay</th>\n",
       "      <th>BPMeds</th>\n",
       "      <th>prevalentStroke</th>\n",
       "      <th>prevalentHyp</th>\n",
       "      <th>diabetes</th>\n",
       "      <th>totChol</th>\n",
       "      <th>sysBP</th>\n",
       "      <th>diaBP</th>\n",
       "      <th>BMI</th>\n",
       "      <th>heartRate</th>\n",
       "      <th>glucose</th>\n",
       "      <th>TenYearCHD</th>\n",
       "    </tr>\n",
       "  </thead>\n",
       "  <tbody>\n",
       "    <tr>\n",
       "      <th>0</th>\n",
       "      <td>1</td>\n",
       "      <td>39</td>\n",
       "      <td>4.0</td>\n",
       "      <td>0</td>\n",
       "      <td>0.0</td>\n",
       "      <td>0.0</td>\n",
       "      <td>0</td>\n",
       "      <td>0</td>\n",
       "      <td>0</td>\n",
       "      <td>195.0</td>\n",
       "      <td>106.0</td>\n",
       "      <td>70.0</td>\n",
       "      <td>26.97</td>\n",
       "      <td>80.0</td>\n",
       "      <td>77.0</td>\n",
       "      <td>0</td>\n",
       "    </tr>\n",
       "    <tr>\n",
       "      <th>1</th>\n",
       "      <td>0</td>\n",
       "      <td>46</td>\n",
       "      <td>2.0</td>\n",
       "      <td>0</td>\n",
       "      <td>0.0</td>\n",
       "      <td>0.0</td>\n",
       "      <td>0</td>\n",
       "      <td>0</td>\n",
       "      <td>0</td>\n",
       "      <td>250.0</td>\n",
       "      <td>121.0</td>\n",
       "      <td>81.0</td>\n",
       "      <td>28.73</td>\n",
       "      <td>95.0</td>\n",
       "      <td>76.0</td>\n",
       "      <td>0</td>\n",
       "    </tr>\n",
       "    <tr>\n",
       "      <th>2</th>\n",
       "      <td>1</td>\n",
       "      <td>48</td>\n",
       "      <td>1.0</td>\n",
       "      <td>1</td>\n",
       "      <td>20.0</td>\n",
       "      <td>0.0</td>\n",
       "      <td>0</td>\n",
       "      <td>0</td>\n",
       "      <td>0</td>\n",
       "      <td>245.0</td>\n",
       "      <td>127.5</td>\n",
       "      <td>80.0</td>\n",
       "      <td>25.34</td>\n",
       "      <td>75.0</td>\n",
       "      <td>70.0</td>\n",
       "      <td>0</td>\n",
       "    </tr>\n",
       "    <tr>\n",
       "      <th>3</th>\n",
       "      <td>0</td>\n",
       "      <td>61</td>\n",
       "      <td>3.0</td>\n",
       "      <td>1</td>\n",
       "      <td>30.0</td>\n",
       "      <td>0.0</td>\n",
       "      <td>0</td>\n",
       "      <td>1</td>\n",
       "      <td>0</td>\n",
       "      <td>225.0</td>\n",
       "      <td>150.0</td>\n",
       "      <td>95.0</td>\n",
       "      <td>28.58</td>\n",
       "      <td>65.0</td>\n",
       "      <td>103.0</td>\n",
       "      <td>1</td>\n",
       "    </tr>\n",
       "    <tr>\n",
       "      <th>4</th>\n",
       "      <td>0</td>\n",
       "      <td>46</td>\n",
       "      <td>3.0</td>\n",
       "      <td>1</td>\n",
       "      <td>23.0</td>\n",
       "      <td>0.0</td>\n",
       "      <td>0</td>\n",
       "      <td>0</td>\n",
       "      <td>0</td>\n",
       "      <td>285.0</td>\n",
       "      <td>130.0</td>\n",
       "      <td>84.0</td>\n",
       "      <td>23.10</td>\n",
       "      <td>85.0</td>\n",
       "      <td>85.0</td>\n",
       "      <td>0</td>\n",
       "    </tr>\n",
       "  </tbody>\n",
       "</table>\n",
       "</div>"
      ],
      "text/plain": [
       "   male  age  education  currentSmoker  cigsPerDay  BPMeds  prevalentStroke  \\\n",
       "0     1   39        4.0              0         0.0     0.0                0   \n",
       "1     0   46        2.0              0         0.0     0.0                0   \n",
       "2     1   48        1.0              1        20.0     0.0                0   \n",
       "3     0   61        3.0              1        30.0     0.0                0   \n",
       "4     0   46        3.0              1        23.0     0.0                0   \n",
       "\n",
       "   prevalentHyp  diabetes  totChol  sysBP  diaBP    BMI  heartRate  glucose  \\\n",
       "0             0         0    195.0  106.0   70.0  26.97       80.0     77.0   \n",
       "1             0         0    250.0  121.0   81.0  28.73       95.0     76.0   \n",
       "2             0         0    245.0  127.5   80.0  25.34       75.0     70.0   \n",
       "3             1         0    225.0  150.0   95.0  28.58       65.0    103.0   \n",
       "4             0         0    285.0  130.0   84.0  23.10       85.0     85.0   \n",
       "\n",
       "   TenYearCHD  \n",
       "0           0  \n",
       "1           0  \n",
       "2           0  \n",
       "3           1  \n",
       "4           0  "
      ]
     },
     "execution_count": 2,
     "metadata": {},
     "output_type": "execute_result"
    }
   ],
   "source": [
    "# Reading the data\n",
    "df = pd.read_csv('framingham.csv')\n",
    "\n",
    "# To display first 5 rows in the dataframe \n",
    "df.head()"
   ]
  },
  {
   "cell_type": "code",
   "execution_count": 3,
   "metadata": {},
   "outputs": [
    {
     "data": {
      "text/html": [
       "<div>\n",
       "<style scoped>\n",
       "    .dataframe tbody tr th:only-of-type {\n",
       "        vertical-align: middle;\n",
       "    }\n",
       "\n",
       "    .dataframe tbody tr th {\n",
       "        vertical-align: top;\n",
       "    }\n",
       "\n",
       "    .dataframe thead th {\n",
       "        text-align: right;\n",
       "    }\n",
       "</style>\n",
       "<table border=\"1\" class=\"dataframe\">\n",
       "  <thead>\n",
       "    <tr style=\"text-align: right;\">\n",
       "      <th></th>\n",
       "      <th>male</th>\n",
       "      <th>age</th>\n",
       "      <th>education</th>\n",
       "      <th>currentSmoker</th>\n",
       "      <th>cigsPerDay</th>\n",
       "      <th>BPMeds</th>\n",
       "      <th>prevalentStroke</th>\n",
       "      <th>prevalentHyp</th>\n",
       "      <th>diabetes</th>\n",
       "      <th>totChol</th>\n",
       "      <th>sysBP</th>\n",
       "      <th>diaBP</th>\n",
       "      <th>BMI</th>\n",
       "      <th>heartRate</th>\n",
       "      <th>glucose</th>\n",
       "      <th>TenYearCHD</th>\n",
       "    </tr>\n",
       "  </thead>\n",
       "  <tbody>\n",
       "    <tr>\n",
       "      <th>4235</th>\n",
       "      <td>0</td>\n",
       "      <td>48</td>\n",
       "      <td>2.0</td>\n",
       "      <td>1</td>\n",
       "      <td>20.0</td>\n",
       "      <td>NaN</td>\n",
       "      <td>0</td>\n",
       "      <td>0</td>\n",
       "      <td>0</td>\n",
       "      <td>248.0</td>\n",
       "      <td>131.0</td>\n",
       "      <td>72.0</td>\n",
       "      <td>22.00</td>\n",
       "      <td>84.0</td>\n",
       "      <td>86.0</td>\n",
       "      <td>0</td>\n",
       "    </tr>\n",
       "    <tr>\n",
       "      <th>4236</th>\n",
       "      <td>0</td>\n",
       "      <td>44</td>\n",
       "      <td>1.0</td>\n",
       "      <td>1</td>\n",
       "      <td>15.0</td>\n",
       "      <td>0.0</td>\n",
       "      <td>0</td>\n",
       "      <td>0</td>\n",
       "      <td>0</td>\n",
       "      <td>210.0</td>\n",
       "      <td>126.5</td>\n",
       "      <td>87.0</td>\n",
       "      <td>19.16</td>\n",
       "      <td>86.0</td>\n",
       "      <td>NaN</td>\n",
       "      <td>0</td>\n",
       "    </tr>\n",
       "    <tr>\n",
       "      <th>4237</th>\n",
       "      <td>0</td>\n",
       "      <td>52</td>\n",
       "      <td>2.0</td>\n",
       "      <td>0</td>\n",
       "      <td>0.0</td>\n",
       "      <td>0.0</td>\n",
       "      <td>0</td>\n",
       "      <td>0</td>\n",
       "      <td>0</td>\n",
       "      <td>269.0</td>\n",
       "      <td>133.5</td>\n",
       "      <td>83.0</td>\n",
       "      <td>21.47</td>\n",
       "      <td>80.0</td>\n",
       "      <td>107.0</td>\n",
       "      <td>0</td>\n",
       "    </tr>\n",
       "    <tr>\n",
       "      <th>4238</th>\n",
       "      <td>1</td>\n",
       "      <td>40</td>\n",
       "      <td>3.0</td>\n",
       "      <td>0</td>\n",
       "      <td>0.0</td>\n",
       "      <td>0.0</td>\n",
       "      <td>0</td>\n",
       "      <td>1</td>\n",
       "      <td>0</td>\n",
       "      <td>185.0</td>\n",
       "      <td>141.0</td>\n",
       "      <td>98.0</td>\n",
       "      <td>25.60</td>\n",
       "      <td>67.0</td>\n",
       "      <td>72.0</td>\n",
       "      <td>0</td>\n",
       "    </tr>\n",
       "    <tr>\n",
       "      <th>4239</th>\n",
       "      <td>0</td>\n",
       "      <td>39</td>\n",
       "      <td>3.0</td>\n",
       "      <td>1</td>\n",
       "      <td>30.0</td>\n",
       "      <td>0.0</td>\n",
       "      <td>0</td>\n",
       "      <td>0</td>\n",
       "      <td>0</td>\n",
       "      <td>196.0</td>\n",
       "      <td>133.0</td>\n",
       "      <td>86.0</td>\n",
       "      <td>20.91</td>\n",
       "      <td>85.0</td>\n",
       "      <td>80.0</td>\n",
       "      <td>0</td>\n",
       "    </tr>\n",
       "  </tbody>\n",
       "</table>\n",
       "</div>"
      ],
      "text/plain": [
       "      male  age  education  currentSmoker  cigsPerDay  BPMeds  \\\n",
       "4235     0   48        2.0              1        20.0     NaN   \n",
       "4236     0   44        1.0              1        15.0     0.0   \n",
       "4237     0   52        2.0              0         0.0     0.0   \n",
       "4238     1   40        3.0              0         0.0     0.0   \n",
       "4239     0   39        3.0              1        30.0     0.0   \n",
       "\n",
       "      prevalentStroke  prevalentHyp  diabetes  totChol  sysBP  diaBP    BMI  \\\n",
       "4235                0             0         0    248.0  131.0   72.0  22.00   \n",
       "4236                0             0         0    210.0  126.5   87.0  19.16   \n",
       "4237                0             0         0    269.0  133.5   83.0  21.47   \n",
       "4238                0             1         0    185.0  141.0   98.0  25.60   \n",
       "4239                0             0         0    196.0  133.0   86.0  20.91   \n",
       "\n",
       "      heartRate  glucose  TenYearCHD  \n",
       "4235       84.0     86.0           0  \n",
       "4236       86.0      NaN           0  \n",
       "4237       80.0    107.0           0  \n",
       "4238       67.0     72.0           0  \n",
       "4239       85.0     80.0           0  "
      ]
     },
     "execution_count": 3,
     "metadata": {},
     "output_type": "execute_result"
    }
   ],
   "source": [
    "# To display last 5 rows in the dataframe \n",
    "df.tail()"
   ]
  },
  {
   "cell_type": "code",
   "execution_count": 4,
   "metadata": {},
   "outputs": [
    {
     "name": "stdout",
     "output_type": "stream",
     "text": [
      "<class 'pandas.core.frame.DataFrame'>\n",
      "RangeIndex: 4240 entries, 0 to 4239\n",
      "Data columns (total 16 columns):\n",
      " #   Column           Non-Null Count  Dtype  \n",
      "---  ------           --------------  -----  \n",
      " 0   male             4240 non-null   int64  \n",
      " 1   age              4240 non-null   int64  \n",
      " 2   education        4135 non-null   float64\n",
      " 3   currentSmoker    4240 non-null   int64  \n",
      " 4   cigsPerDay       4211 non-null   float64\n",
      " 5   BPMeds           4187 non-null   float64\n",
      " 6   prevalentStroke  4240 non-null   int64  \n",
      " 7   prevalentHyp     4240 non-null   int64  \n",
      " 8   diabetes         4240 non-null   int64  \n",
      " 9   totChol          4190 non-null   float64\n",
      " 10  sysBP            4240 non-null   float64\n",
      " 11  diaBP            4240 non-null   float64\n",
      " 12  BMI              4221 non-null   float64\n",
      " 13  heartRate        4239 non-null   float64\n",
      " 14  glucose          3852 non-null   float64\n",
      " 15  TenYearCHD       4240 non-null   int64  \n",
      "dtypes: float64(9), int64(7)\n",
      "memory usage: 530.1 KB\n"
     ]
    }
   ],
   "source": [
    "# To know the data type and null values if any\n",
    "df.info()"
   ]
  },
  {
   "cell_type": "markdown",
   "metadata": {},
   "source": [
    "- From df.info() we can see that there are null values. Hence cleaning the data is important."
   ]
  },
  {
   "cell_type": "markdown",
   "metadata": {},
   "source": [
    "## Data Cleaning:"
   ]
  },
  {
   "cell_type": "code",
   "execution_count": 5,
   "metadata": {},
   "outputs": [
    {
     "data": {
      "text/plain": [
       "male               0.000000\n",
       "age                0.000000\n",
       "education          2.476415\n",
       "currentSmoker      0.000000\n",
       "cigsPerDay         0.683962\n",
       "BPMeds             1.250000\n",
       "prevalentStroke    0.000000\n",
       "prevalentHyp       0.000000\n",
       "diabetes           0.000000\n",
       "totChol            1.179245\n",
       "sysBP              0.000000\n",
       "diaBP              0.000000\n",
       "BMI                0.448113\n",
       "heartRate          0.023585\n",
       "glucose            9.150943\n",
       "TenYearCHD         0.000000\n",
       "dtype: float64"
      ]
     },
     "execution_count": 5,
     "metadata": {},
     "output_type": "execute_result"
    }
   ],
   "source": [
    "# Percentage of null values in each column\n",
    "(df.isnull().sum()/df.shape[0])*100"
   ]
  },
  {
   "cell_type": "markdown",
   "metadata": {},
   "source": [
    "##### Missing values for the column eduction may be they arent litrate. Hence filling the missing values with '0':"
   ]
  },
  {
   "cell_type": "code",
   "execution_count": 6,
   "metadata": {},
   "outputs": [],
   "source": [
    "df.education.fillna(0,inplace=True)"
   ]
  },
  {
   "cell_type": "markdown",
   "metadata": {},
   "source": [
    "##### Missing values in column cigsPerDay are from smokers, hence imputing it with median of current smoker:"
   ]
  },
  {
   "cell_type": "code",
   "execution_count": 7,
   "metadata": {},
   "outputs": [],
   "source": [
    "df.cigsPerDay.fillna(df.cigsPerDay.where(df.currentSmoker==1).median(),inplace=True)"
   ]
  },
  {
   "cell_type": "markdown",
   "metadata": {},
   "source": [
    "##### Missing values in column BPMeds may be because they are not on medication, hence filling missing values with '0':"
   ]
  },
  {
   "cell_type": "code",
   "execution_count": 8,
   "metadata": {},
   "outputs": [],
   "source": [
    "df.BPMeds.fillna(0,inplace=True)"
   ]
  },
  {
   "cell_type": "markdown",
   "metadata": {},
   "source": [
    "##### Missing values in column totChol are being imputed with median:"
   ]
  },
  {
   "cell_type": "code",
   "execution_count": 9,
   "metadata": {},
   "outputs": [],
   "source": [
    "df['totChol'].fillna(df.totChol.median(),inplace=True)"
   ]
  },
  {
   "cell_type": "markdown",
   "metadata": {},
   "source": [
    "##### Missing values in column BMI are being imputed with median:"
   ]
  },
  {
   "cell_type": "code",
   "execution_count": 10,
   "metadata": {},
   "outputs": [],
   "source": [
    "df['BMI'].fillna(df.BMI.median(),inplace=True)"
   ]
  },
  {
   "cell_type": "markdown",
   "metadata": {},
   "source": [
    "##### In column heartRate, there is only 1 missing value in the column and its for active smoker, hence filling it with median heartrate for Smoker:"
   ]
  },
  {
   "cell_type": "code",
   "execution_count": 11,
   "metadata": {},
   "outputs": [],
   "source": [
    "df['heartRate'].fillna(df['heartRate'].where(df['currentSmoker']==1).median(),inplace=True)"
   ]
  },
  {
   "cell_type": "markdown",
   "metadata": {},
   "source": [
    "##### In column glucose, majority of missing values are not diabetic hence the missing values imouted will Be the median of non diabetic:"
   ]
  },
  {
   "cell_type": "code",
   "execution_count": 12,
   "metadata": {},
   "outputs": [],
   "source": [
    "df['glucose'].fillna(df['glucose'].where(df['diabetes']==0).median(),inplace=True)"
   ]
  },
  {
   "cell_type": "code",
   "execution_count": 13,
   "metadata": {},
   "outputs": [
    {
     "data": {
      "text/plain": [
       "male               0.0\n",
       "age                0.0\n",
       "education          0.0\n",
       "currentSmoker      0.0\n",
       "cigsPerDay         0.0\n",
       "BPMeds             0.0\n",
       "prevalentStroke    0.0\n",
       "prevalentHyp       0.0\n",
       "diabetes           0.0\n",
       "totChol            0.0\n",
       "sysBP              0.0\n",
       "diaBP              0.0\n",
       "BMI                0.0\n",
       "heartRate          0.0\n",
       "glucose            0.0\n",
       "TenYearCHD         0.0\n",
       "dtype: float64"
      ]
     },
     "execution_count": 13,
     "metadata": {},
     "output_type": "execute_result"
    }
   ],
   "source": [
    "# Checking if there are any misisng values:\n",
    "(df.isnull().sum()/df.shape[0])*100"
   ]
  },
  {
   "cell_type": "code",
   "execution_count": 14,
   "metadata": {},
   "outputs": [
    {
     "data": {
      "text/html": [
       "<div>\n",
       "<style scoped>\n",
       "    .dataframe tbody tr th:only-of-type {\n",
       "        vertical-align: middle;\n",
       "    }\n",
       "\n",
       "    .dataframe tbody tr th {\n",
       "        vertical-align: top;\n",
       "    }\n",
       "\n",
       "    .dataframe thead th {\n",
       "        text-align: right;\n",
       "    }\n",
       "</style>\n",
       "<table border=\"1\" class=\"dataframe\">\n",
       "  <thead>\n",
       "    <tr style=\"text-align: right;\">\n",
       "      <th></th>\n",
       "      <th>count</th>\n",
       "      <th>mean</th>\n",
       "      <th>std</th>\n",
       "      <th>min</th>\n",
       "      <th>25%</th>\n",
       "      <th>50%</th>\n",
       "      <th>75%</th>\n",
       "      <th>max</th>\n",
       "    </tr>\n",
       "  </thead>\n",
       "  <tbody>\n",
       "    <tr>\n",
       "      <th>male</th>\n",
       "      <td>4240.0</td>\n",
       "      <td>0.429245</td>\n",
       "      <td>0.495027</td>\n",
       "      <td>0.00</td>\n",
       "      <td>0.0000</td>\n",
       "      <td>0.0</td>\n",
       "      <td>1.0000</td>\n",
       "      <td>1.0</td>\n",
       "    </tr>\n",
       "    <tr>\n",
       "      <th>age</th>\n",
       "      <td>4240.0</td>\n",
       "      <td>49.580189</td>\n",
       "      <td>8.572942</td>\n",
       "      <td>32.00</td>\n",
       "      <td>42.0000</td>\n",
       "      <td>49.0</td>\n",
       "      <td>56.0000</td>\n",
       "      <td>70.0</td>\n",
       "    </tr>\n",
       "    <tr>\n",
       "      <th>education</th>\n",
       "      <td>4240.0</td>\n",
       "      <td>1.930425</td>\n",
       "      <td>1.053026</td>\n",
       "      <td>0.00</td>\n",
       "      <td>1.0000</td>\n",
       "      <td>2.0</td>\n",
       "      <td>3.0000</td>\n",
       "      <td>4.0</td>\n",
       "    </tr>\n",
       "    <tr>\n",
       "      <th>currentSmoker</th>\n",
       "      <td>4240.0</td>\n",
       "      <td>0.494104</td>\n",
       "      <td>0.500024</td>\n",
       "      <td>0.00</td>\n",
       "      <td>0.0000</td>\n",
       "      <td>0.0</td>\n",
       "      <td>1.0000</td>\n",
       "      <td>1.0</td>\n",
       "    </tr>\n",
       "    <tr>\n",
       "      <th>cigsPerDay</th>\n",
       "      <td>4240.0</td>\n",
       "      <td>9.081132</td>\n",
       "      <td>11.916119</td>\n",
       "      <td>0.00</td>\n",
       "      <td>0.0000</td>\n",
       "      <td>0.0</td>\n",
       "      <td>20.0000</td>\n",
       "      <td>70.0</td>\n",
       "    </tr>\n",
       "    <tr>\n",
       "      <th>BPMeds</th>\n",
       "      <td>4240.0</td>\n",
       "      <td>0.029245</td>\n",
       "      <td>0.168513</td>\n",
       "      <td>0.00</td>\n",
       "      <td>0.0000</td>\n",
       "      <td>0.0</td>\n",
       "      <td>0.0000</td>\n",
       "      <td>1.0</td>\n",
       "    </tr>\n",
       "    <tr>\n",
       "      <th>prevalentStroke</th>\n",
       "      <td>4240.0</td>\n",
       "      <td>0.005896</td>\n",
       "      <td>0.076569</td>\n",
       "      <td>0.00</td>\n",
       "      <td>0.0000</td>\n",
       "      <td>0.0</td>\n",
       "      <td>0.0000</td>\n",
       "      <td>1.0</td>\n",
       "    </tr>\n",
       "    <tr>\n",
       "      <th>prevalentHyp</th>\n",
       "      <td>4240.0</td>\n",
       "      <td>0.310613</td>\n",
       "      <td>0.462799</td>\n",
       "      <td>0.00</td>\n",
       "      <td>0.0000</td>\n",
       "      <td>0.0</td>\n",
       "      <td>1.0000</td>\n",
       "      <td>1.0</td>\n",
       "    </tr>\n",
       "    <tr>\n",
       "      <th>diabetes</th>\n",
       "      <td>4240.0</td>\n",
       "      <td>0.025708</td>\n",
       "      <td>0.158280</td>\n",
       "      <td>0.00</td>\n",
       "      <td>0.0000</td>\n",
       "      <td>0.0</td>\n",
       "      <td>0.0000</td>\n",
       "      <td>1.0</td>\n",
       "    </tr>\n",
       "    <tr>\n",
       "      <th>totChol</th>\n",
       "      <td>4240.0</td>\n",
       "      <td>236.667689</td>\n",
       "      <td>44.328480</td>\n",
       "      <td>107.00</td>\n",
       "      <td>206.0000</td>\n",
       "      <td>234.0</td>\n",
       "      <td>262.0000</td>\n",
       "      <td>696.0</td>\n",
       "    </tr>\n",
       "    <tr>\n",
       "      <th>sysBP</th>\n",
       "      <td>4240.0</td>\n",
       "      <td>132.354599</td>\n",
       "      <td>22.033300</td>\n",
       "      <td>83.50</td>\n",
       "      <td>117.0000</td>\n",
       "      <td>128.0</td>\n",
       "      <td>144.0000</td>\n",
       "      <td>295.0</td>\n",
       "    </tr>\n",
       "    <tr>\n",
       "      <th>diaBP</th>\n",
       "      <td>4240.0</td>\n",
       "      <td>82.897759</td>\n",
       "      <td>11.910394</td>\n",
       "      <td>48.00</td>\n",
       "      <td>75.0000</td>\n",
       "      <td>82.0</td>\n",
       "      <td>90.0000</td>\n",
       "      <td>142.5</td>\n",
       "    </tr>\n",
       "    <tr>\n",
       "      <th>BMI</th>\n",
       "      <td>4240.0</td>\n",
       "      <td>25.799005</td>\n",
       "      <td>4.070775</td>\n",
       "      <td>15.54</td>\n",
       "      <td>23.0775</td>\n",
       "      <td>25.4</td>\n",
       "      <td>28.0325</td>\n",
       "      <td>56.8</td>\n",
       "    </tr>\n",
       "    <tr>\n",
       "      <th>heartRate</th>\n",
       "      <td>4240.0</td>\n",
       "      <td>75.878774</td>\n",
       "      <td>12.023937</td>\n",
       "      <td>44.00</td>\n",
       "      <td>68.0000</td>\n",
       "      <td>75.0</td>\n",
       "      <td>83.0000</td>\n",
       "      <td>143.0</td>\n",
       "    </tr>\n",
       "    <tr>\n",
       "      <th>glucose</th>\n",
       "      <td>4240.0</td>\n",
       "      <td>81.600943</td>\n",
       "      <td>22.860340</td>\n",
       "      <td>40.00</td>\n",
       "      <td>72.0000</td>\n",
       "      <td>78.0</td>\n",
       "      <td>85.0000</td>\n",
       "      <td>394.0</td>\n",
       "    </tr>\n",
       "    <tr>\n",
       "      <th>TenYearCHD</th>\n",
       "      <td>4240.0</td>\n",
       "      <td>0.151887</td>\n",
       "      <td>0.358953</td>\n",
       "      <td>0.00</td>\n",
       "      <td>0.0000</td>\n",
       "      <td>0.0</td>\n",
       "      <td>0.0000</td>\n",
       "      <td>1.0</td>\n",
       "    </tr>\n",
       "  </tbody>\n",
       "</table>\n",
       "</div>"
      ],
      "text/plain": [
       "                  count        mean        std     min       25%    50%  \\\n",
       "male             4240.0    0.429245   0.495027    0.00    0.0000    0.0   \n",
       "age              4240.0   49.580189   8.572942   32.00   42.0000   49.0   \n",
       "education        4240.0    1.930425   1.053026    0.00    1.0000    2.0   \n",
       "currentSmoker    4240.0    0.494104   0.500024    0.00    0.0000    0.0   \n",
       "cigsPerDay       4240.0    9.081132  11.916119    0.00    0.0000    0.0   \n",
       "BPMeds           4240.0    0.029245   0.168513    0.00    0.0000    0.0   \n",
       "prevalentStroke  4240.0    0.005896   0.076569    0.00    0.0000    0.0   \n",
       "prevalentHyp     4240.0    0.310613   0.462799    0.00    0.0000    0.0   \n",
       "diabetes         4240.0    0.025708   0.158280    0.00    0.0000    0.0   \n",
       "totChol          4240.0  236.667689  44.328480  107.00  206.0000  234.0   \n",
       "sysBP            4240.0  132.354599  22.033300   83.50  117.0000  128.0   \n",
       "diaBP            4240.0   82.897759  11.910394   48.00   75.0000   82.0   \n",
       "BMI              4240.0   25.799005   4.070775   15.54   23.0775   25.4   \n",
       "heartRate        4240.0   75.878774  12.023937   44.00   68.0000   75.0   \n",
       "glucose          4240.0   81.600943  22.860340   40.00   72.0000   78.0   \n",
       "TenYearCHD       4240.0    0.151887   0.358953    0.00    0.0000    0.0   \n",
       "\n",
       "                      75%    max  \n",
       "male               1.0000    1.0  \n",
       "age               56.0000   70.0  \n",
       "education          3.0000    4.0  \n",
       "currentSmoker      1.0000    1.0  \n",
       "cigsPerDay        20.0000   70.0  \n",
       "BPMeds             0.0000    1.0  \n",
       "prevalentStroke    0.0000    1.0  \n",
       "prevalentHyp       1.0000    1.0  \n",
       "diabetes           0.0000    1.0  \n",
       "totChol          262.0000  696.0  \n",
       "sysBP            144.0000  295.0  \n",
       "diaBP             90.0000  142.5  \n",
       "BMI               28.0325   56.8  \n",
       "heartRate         83.0000  143.0  \n",
       "glucose           85.0000  394.0  \n",
       "TenYearCHD         0.0000    1.0  "
      ]
     },
     "execution_count": 14,
     "metadata": {},
     "output_type": "execute_result"
    }
   ],
   "source": [
    "# Five point summary of clean data\n",
    "df.describe().T"
   ]
  },
  {
   "cell_type": "code",
   "execution_count": 15,
   "metadata": {},
   "outputs": [
    {
     "name": "stdout",
     "output_type": "stream",
     "text": [
      "<class 'pandas.core.frame.DataFrame'>\n",
      "RangeIndex: 4240 entries, 0 to 4239\n",
      "Data columns (total 16 columns):\n",
      " #   Column           Non-Null Count  Dtype  \n",
      "---  ------           --------------  -----  \n",
      " 0   male             4240 non-null   int64  \n",
      " 1   age              4240 non-null   int64  \n",
      " 2   education        4240 non-null   float64\n",
      " 3   currentSmoker    4240 non-null   int64  \n",
      " 4   cigsPerDay       4240 non-null   float64\n",
      " 5   BPMeds           4240 non-null   float64\n",
      " 6   prevalentStroke  4240 non-null   int64  \n",
      " 7   prevalentHyp     4240 non-null   int64  \n",
      " 8   diabetes         4240 non-null   int64  \n",
      " 9   totChol          4240 non-null   float64\n",
      " 10  sysBP            4240 non-null   float64\n",
      " 11  diaBP            4240 non-null   float64\n",
      " 12  BMI              4240 non-null   float64\n",
      " 13  heartRate        4240 non-null   float64\n",
      " 14  glucose          4240 non-null   float64\n",
      " 15  TenYearCHD       4240 non-null   int64  \n",
      "dtypes: float64(9), int64(7)\n",
      "memory usage: 530.1 KB\n"
     ]
    }
   ],
   "source": [
    "# To know the data type of column are affected\n",
    "df.info()"
   ]
  },
  {
   "cell_type": "code",
   "execution_count": 16,
   "metadata": {},
   "outputs": [
    {
     "data": {
      "text/plain": [
       "Index(['male', 'age', 'education', 'currentSmoker', 'cigsPerDay', 'BPMeds',\n",
       "       'prevalentStroke', 'prevalentHyp', 'diabetes', 'totChol', 'sysBP',\n",
       "       'diaBP', 'BMI', 'heartRate', 'glucose', 'TenYearCHD'],\n",
       "      dtype='object')"
      ]
     },
     "execution_count": 16,
     "metadata": {},
     "output_type": "execute_result"
    }
   ],
   "source": [
    "# Names of columns of dataframe\n",
    "df.columns"
   ]
  },
  {
   "cell_type": "code",
   "execution_count": 17,
   "metadata": {},
   "outputs": [],
   "source": [
    "# List of columns names with contineous values\n",
    "col = ['age','totChol', 'sysBP', 'diaBP', 'BMI', 'heartRate', 'glucose']"
   ]
  },
  {
   "cell_type": "code",
   "execution_count": 18,
   "metadata": {},
   "outputs": [
    {
     "data": {
      "image/png": "[encoded data removed]",
      "text/plain": [
       "<Figure size 432x288 with 1 Axes>"
      ]
     },
     "metadata": {
      "needs_background": "light"
     },
     "output_type": "display_data"
    },
    {
     "data": {
      "image/png": "[encoded data removed]",
      "text/plain": [
       "<Figure size 432x288 with 1 Axes>"
      ]
     },
     "metadata": {
      "needs_background": "light"
     },
     "output_type": "display_data"
    },
    {
     "data": {
      "image/png": "[encoded data removed]",
      "text/plain": [
       "<Figure size 432x288 with 1 Axes>"
      ]
     },
     "metadata": {
      "needs_background": "light"
     },
     "output_type": "display_data"
    },
    {
     "data": {
      "image/png": "[encoded data removed]",
      "text/plain": [
       "<Figure size 432x288 with 1 Axes>"
      ]
     },
     "metadata": {
      "needs_background": "light"
     },
     "output_type": "display_data"
    },
    {
     "data": {
      "image/png": "[encoded data removed]",
      "text/plain": [
       "<Figure size 432x288 with 1 Axes>"
      ]
     },
     "metadata": {
      "needs_background": "light"
     },
     "output_type": "display_data"
    },
    {
     "data": {
      "image/png": "[encoded data removed]",
      "text/plain": [
       "<Figure size 432x288 with 1 Axes>"
      ]
     },
     "metadata": {
      "needs_background": "light"
     },
     "output_type": "display_data"
    },
    {
     "data": {
      "image/png": "[encoded data removed]",
      "text/plain": [
       "<Figure size 432x288 with 1 Axes>"
      ]
     },
     "metadata": {
      "needs_background": "light"
     },
     "output_type": "display_data"
    }
   ],
   "source": [
    "# To find outliers\n",
    "for i in col:\n",
    "    sns.boxplot(df[i])\n",
    "    plt.show()"
   ]
  },
  {
   "cell_type": "markdown",
   "metadata": {},
   "source": [
    "- There are outliers in the columns 'totChol', 'sysBP', 'diaBP', 'BMI', 'heartRate', 'glucose'\n",
    "- Hence removing outliers may be needed"
   ]
  },
  {
   "cell_type": "code",
   "execution_count": 19,
   "metadata": {},
   "outputs": [
    {
     "data": {
      "image/png": "[encoded data removed]",
      "text/plain": [
       "<Figure size 432x288 with 1 Axes>"
      ]
     },
     "metadata": {
      "needs_background": "light"
     },
     "output_type": "display_data"
    },
    {
     "data": {
      "image/png": "[encoded data removed]",
      "text/plain": [
       "<Figure size 432x288 with 1 Axes>"
      ]
     },
     "metadata": {
      "needs_background": "light"
     },
     "output_type": "display_data"
    },
    {
     "data": {
      "image/png": "[encoded data removed]",
      "text/plain": [
       "<Figure size 432x288 with 1 Axes>"
      ]
     },
     "metadata": {
      "needs_background": "light"
     },
     "output_type": "display_data"
    },
    {
     "data": {
      "image/png": "[encoded data removed]",
      "text/plain": [
       "<Figure size 432x288 with 1 Axes>"
      ]
     },
     "metadata": {
      "needs_background": "light"
     },
     "output_type": "display_data"
    },
    {
     "data": {
      "image/png": "[encoded data removed]",
      "text/plain": [
       "<Figure size 432x288 with 1 Axes>"
      ]
     },
     "metadata": {
      "needs_background": "light"
     },
     "output_type": "display_data"
    },
    {
     "data": {
      "image/png": "[encoded data removed]",
      "text/plain": [
       "<Figure size 432x288 with 1 Axes>"
      ]
     },
     "metadata": {
      "needs_background": "light"
     },
     "output_type": "display_data"
    },
    {
     "data": {
      "image/png": "[encoded data removed]",
      "text/plain": [
       "<Figure size 432x288 with 1 Axes>"
      ]
     },
     "metadata": {
      "needs_background": "light"
     },
     "output_type": "display_data"
    }
   ],
   "source": [
    "# Distribution of the contineous values column\n",
    "for i in col:\n",
    "    sns.distplot(df[i])\n",
    "    plt.show()"
   ]
  },
  {
   "cell_type": "code",
   "execution_count": 20,
   "metadata": {},
   "outputs": [],
   "source": [
    "# Making a copy of the clean dataframe\n",
    "df1 = df.copy()\n",
    "\n",
    "# To remove outliers\n",
    "for i in col:\n",
    "    q1 = df1[i].quantile(q=0.25)\n",
    "    q2 = df1[i].quantile()\n",
    "    q3 = df1[i].quantile(q=0.75)\n",
    "    iqr = q3-q1\n",
    "    ul = q3+1.5*iqr\n",
    "    ll = q1-1.5*iqr\n",
    "\n",
    "    df1 = df1[(df1[i]<ul ) & (df1[i]>ll)] "
   ]
  },
  {
   "cell_type": "code",
   "execution_count": 21,
   "metadata": {},
   "outputs": [
    {
     "data": {
      "image/png": "[encoded data removed]",
      "text/plain": [
       "<Figure size 432x288 with 1 Axes>"
      ]
     },
     "metadata": {
      "needs_background": "light"
     },
     "output_type": "display_data"
    },
    {
     "data": {
      "image/png": "[encoded data removed]",
      "text/plain": [
       "<Figure size 432x288 with 1 Axes>"
      ]
     },
     "metadata": {
      "needs_background": "light"
     },
     "output_type": "display_data"
    },
    {
     "data": {
      "image/png": "[encoded data removed]",
      "text/plain": [
       "<Figure size 432x288 with 1 Axes>"
      ]
     },
     "metadata": {
      "needs_background": "light"
     },
     "output_type": "display_data"
    },
    {
     "data": {
      "image/png": "[encoded data removed]",
      "text/plain": [
       "<Figure size 432x288 with 1 Axes>"
      ]
     },
     "metadata": {
      "needs_background": "light"
     },
     "output_type": "display_data"
    },
    {
     "data": {
      "image/png": "[encoded data removed]",
      "text/plain": [
       "<Figure size 432x288 with 1 Axes>"
      ]
     },
     "metadata": {
      "needs_background": "light"
     },
     "output_type": "display_data"
    },
    {
     "data": {
      "image/png": "[encoded data removed]",
      "text/plain": [
       "<Figure size 432x288 with 1 Axes>"
      ]
     },
     "metadata": {
      "needs_background": "light"
     },
     "output_type": "display_data"
    },
    {
     "data": {
      "image/png": "[encoded data removed]",
      "text/plain": [
       "<Figure size 432x288 with 1 Axes>"
      ]
     },
     "metadata": {
      "needs_background": "light"
     },
     "output_type": "display_data"
    }
   ],
   "source": [
    "# Checking distribution of the contineous values column after outliers treatment\n",
    "\n",
    "for i in col:\n",
    "    sns.distplot(df1[i])\n",
    "    plt.show()"
   ]
  },
  {
   "cell_type": "markdown",
   "metadata": {},
   "source": [
    "- After outlier treatment, the distribution look normal."
   ]
  },
  {
   "cell_type": "code",
   "execution_count": 22,
   "metadata": {},
   "outputs": [
    {
     "name": "stdout",
     "output_type": "stream",
     "text": [
      "There were 4240 rows before outlier treatment.\n",
      "There are 3639 rows after outlier treatment.\n",
      "After outlier treatment number of rows lost are 601.\n"
     ]
    }
   ],
   "source": [
    "print('There were {} rows before outlier treatment.'.format(df.shape[0]))\n",
    "print('There are {} rows after outlier treatment.'.format(df1.shape[0]))\n",
    "print('After outlier treatment number of rows lost are {}.'.format(df.shape[0] - df1.shape[0]))"
   ]
  },
  {
   "cell_type": "markdown",
   "metadata": {},
   "source": [
    "## Exploratory Data Analysis:"
   ]
  },
  {
   "cell_type": "code",
   "execution_count": 23,
   "metadata": {},
   "outputs": [
    {
     "data": {
      "text/plain": [
       "0    0.866996\n",
       "1    0.133004\n",
       "Name: TenYearCHD, dtype: float64"
      ]
     },
     "execution_count": 23,
     "metadata": {},
     "output_type": "execute_result"
    }
   ],
   "source": [
    "# Ratio of CHD=1 and CHD=0\n",
    "df1['TenYearCHD'].value_counts(normalize=True)"
   ]
  },
  {
   "cell_type": "code",
   "execution_count": 24,
   "metadata": {},
   "outputs": [
    {
     "data": {
      "image/png": "[encoded data removed]",
      "text/plain": [
       "<Figure size 432x288 with 1 Axes>"
      ]
     },
     "metadata": {
      "needs_background": "light"
     },
     "output_type": "display_data"
    }
   ],
   "source": [
    "# Ploting the ratio\n",
    "sns.countplot(df['TenYearCHD'],)\n",
    "plt.show()"
   ]
  },
  {
   "cell_type": "markdown",
   "metadata": {},
   "source": [
    "The chart shows that 13.3% of the group had Heart disease."
   ]
  },
  {
   "cell_type": "code",
   "execution_count": 25,
   "metadata": {},
   "outputs": [
    {
     "data": {
      "image/png": "[encoded data removed]",
      "text/plain": [
       "<Figure size 1080x648 with 2 Axes>"
      ]
     },
     "metadata": {
      "needs_background": "light"
     },
     "output_type": "display_data"
    }
   ],
   "source": [
    "# Correlation plot using heatmap\n",
    "cor = df.corr()\n",
    "plt.figure(figsize=(15,9))\n",
    "sns.heatmap(cor,annot=True)\n",
    "plt.show()"
   ]
  },
  {
   "cell_type": "markdown",
   "metadata": {},
   "source": [
    "##### Splitting the data into dependant and independent:"
   ]
  },
  {
   "cell_type": "code",
   "execution_count": 26,
   "metadata": {},
   "outputs": [],
   "source": [
    "X = df1.drop(['TenYearCHD'], axis=1)\n",
    "y = df1['TenYearCHD']"
   ]
  },
  {
   "cell_type": "markdown",
   "metadata": {},
   "source": [
    "## Modelling:"
   ]
  },
  {
   "cell_type": "markdown",
   "metadata": {},
   "source": [
    "### Using stats model:"
   ]
  },
  {
   "cell_type": "code",
   "execution_count": 27,
   "metadata": {},
   "outputs": [],
   "source": [
    "import statsmodels.api as sm\n",
    "\n",
    "X_const = sm.add_constant(X)"
   ]
  },
  {
   "cell_type": "code",
   "execution_count": 28,
   "metadata": {},
   "outputs": [
    {
     "name": "stdout",
     "output_type": "stream",
     "text": [
      "Optimization terminated successfully.\n",
      "         Current function value: 0.365105\n",
      "         Iterations 6\n"
     ]
    },
    {
     "data": {
      "text/html": [
       "<table class=\"simpletable\">\n",
       "<caption>Logit Regression Results</caption>\n",
       "<tr>\n",
       "  <th>Dep. Variable:</th>      <td>TenYearCHD</td>    <th>  No. Observations:  </th>  <td>  3639</td>  \n",
       "</tr>\n",
       "<tr>\n",
       "  <th>Model:</th>                 <td>Logit</td>      <th>  Df Residuals:      </th>  <td>  3624</td>  \n",
       "</tr>\n",
       "<tr>\n",
       "  <th>Method:</th>                 <td>MLE</td>       <th>  Df Model:          </th>  <td>    14</td>  \n",
       "</tr>\n",
       "<tr>\n",
       "  <th>Date:</th>            <td>Mon, 14 Sep 2020</td> <th>  Pseudo R-squ.:     </th>  <td>0.06874</td> \n",
       "</tr>\n",
       "<tr>\n",
       "  <th>Time:</th>                <td>16:25:51</td>     <th>  Log-Likelihood:    </th> <td> -1328.6</td> \n",
       "</tr>\n",
       "<tr>\n",
       "  <th>converged:</th>             <td>True</td>       <th>  LL-Null:           </th> <td> -1426.7</td> \n",
       "</tr>\n",
       "<tr>\n",
       "  <th>Covariance Type:</th>     <td>nonrobust</td>    <th>  LLR p-value:       </th> <td>3.349e-34</td>\n",
       "</tr>\n",
       "</table>\n",
       "<table class=\"simpletable\">\n",
       "<tr>\n",
       "         <td></td>            <th>coef</th>     <th>std err</th>      <th>z</th>      <th>P>|z|</th>  <th>[0.025</th>    <th>0.975]</th>  \n",
       "</tr>\n",
       "<tr>\n",
       "  <th>male</th>            <td>    0.4652</td> <td>    0.111</td> <td>    4.183</td> <td> 0.000</td> <td>    0.247</td> <td>    0.683</td>\n",
       "</tr>\n",
       "<tr>\n",
       "  <th>age</th>             <td>    0.0488</td> <td>    0.007</td> <td>    7.498</td> <td> 0.000</td> <td>    0.036</td> <td>    0.062</td>\n",
       "</tr>\n",
       "<tr>\n",
       "  <th>education</th>       <td>   -0.0951</td> <td>    0.048</td> <td>   -1.985</td> <td> 0.047</td> <td>   -0.189</td> <td>   -0.001</td>\n",
       "</tr>\n",
       "<tr>\n",
       "  <th>currentSmoker</th>   <td>   -0.1563</td> <td>    0.160</td> <td>   -0.975</td> <td> 0.329</td> <td>   -0.470</td> <td>    0.158</td>\n",
       "</tr>\n",
       "<tr>\n",
       "  <th>cigsPerDay</th>      <td>    0.0199</td> <td>    0.006</td> <td>    3.164</td> <td> 0.002</td> <td>    0.008</td> <td>    0.032</td>\n",
       "</tr>\n",
       "<tr>\n",
       "  <th>BPMeds</th>          <td>    0.0611</td> <td>    0.301</td> <td>    0.203</td> <td> 0.839</td> <td>   -0.529</td> <td>    0.651</td>\n",
       "</tr>\n",
       "<tr>\n",
       "  <th>prevalentStroke</th> <td>    1.1482</td> <td>    0.518</td> <td>    2.215</td> <td> 0.027</td> <td>    0.132</td> <td>    2.164</td>\n",
       "</tr>\n",
       "<tr>\n",
       "  <th>prevalentHyp</th>    <td>    0.7822</td> <td>    0.137</td> <td>    5.727</td> <td> 0.000</td> <td>    0.515</td> <td>    1.050</td>\n",
       "</tr>\n",
       "<tr>\n",
       "  <th>diabetes</th>        <td>   -0.0138</td> <td>    0.645</td> <td>   -0.021</td> <td> 0.983</td> <td>   -1.279</td> <td>    1.251</td>\n",
       "</tr>\n",
       "<tr>\n",
       "  <th>totChol</th>         <td>   -0.0007</td> <td>    0.001</td> <td>   -0.526</td> <td> 0.599</td> <td>   -0.003</td> <td>    0.002</td>\n",
       "</tr>\n",
       "<tr>\n",
       "  <th>sysBP</th>           <td>    0.0103</td> <td>    0.005</td> <td>    2.171</td> <td> 0.030</td> <td>    0.001</td> <td>    0.020</td>\n",
       "</tr>\n",
       "<tr>\n",
       "  <th>diaBP</th>           <td>   -0.0285</td> <td>    0.007</td> <td>   -3.934</td> <td> 0.000</td> <td>   -0.043</td> <td>   -0.014</td>\n",
       "</tr>\n",
       "<tr>\n",
       "  <th>BMI</th>             <td>   -0.0400</td> <td>    0.015</td> <td>   -2.623</td> <td> 0.009</td> <td>   -0.070</td> <td>   -0.010</td>\n",
       "</tr>\n",
       "<tr>\n",
       "  <th>heartRate</th>       <td>   -0.0120</td> <td>    0.005</td> <td>   -2.610</td> <td> 0.009</td> <td>   -0.021</td> <td>   -0.003</td>\n",
       "</tr>\n",
       "<tr>\n",
       "  <th>glucose</th>         <td>   -0.0218</td> <td>    0.005</td> <td>   -4.644</td> <td> 0.000</td> <td>   -0.031</td> <td>   -0.013</td>\n",
       "</tr>\n",
       "</table>"
      ],
      "text/plain": [
       "<class 'statsmodels.iolib.summary.Summary'>\n",
       "\"\"\"\n",
       "                           Logit Regression Results                           \n",
       "==============================================================================\n",
       "Dep. Variable:             TenYearCHD   No. Observations:                 3639\n",
       "Model:                          Logit   Df Residuals:                     3624\n",
       "Method:                           MLE   Df Model:                           14\n",
       "Date:                Mon, 14 Sep 2020   Pseudo R-squ.:                 0.06874\n",
       "Time:                        16:25:51   Log-Likelihood:                -1328.6\n",
       "converged:                       True   LL-Null:                       -1426.7\n",
       "Covariance Type:            nonrobust   LLR p-value:                 3.349e-34\n",
       "===================================================================================\n",
       "                      coef    std err          z      P>|z|      [0.025      0.975]\n",
       "-----------------------------------------------------------------------------------\n",
       "male                0.4652      0.111      4.183      0.000       0.247       0.683\n",
       "age                 0.0488      0.007      7.498      0.000       0.036       0.062\n",
       "education          -0.0951      0.048     -1.985      0.047      -0.189      -0.001\n",
       "currentSmoker      -0.1563      0.160     -0.975      0.329      -0.470       0.158\n",
       "cigsPerDay          0.0199      0.006      3.164      0.002       0.008       0.032\n",
       "BPMeds              0.0611      0.301      0.203      0.839      -0.529       0.651\n",
       "prevalentStroke     1.1482      0.518      2.215      0.027       0.132       2.164\n",
       "prevalentHyp        0.7822      0.137      5.727      0.000       0.515       1.050\n",
       "diabetes           -0.0138      0.645     -0.021      0.983      -1.279       1.251\n",
       "totChol            -0.0007      0.001     -0.526      0.599      -0.003       0.002\n",
       "sysBP               0.0103      0.005      2.171      0.030       0.001       0.020\n",
       "diaBP              -0.0285      0.007     -3.934      0.000      -0.043      -0.014\n",
       "BMI                -0.0400      0.015     -2.623      0.009      -0.070      -0.010\n",
       "heartRate          -0.0120      0.005     -2.610      0.009      -0.021      -0.003\n",
       "glucose            -0.0218      0.005     -4.644      0.000      -0.031      -0.013\n",
       "===================================================================================\n",
       "\"\"\""
      ]
     },
     "execution_count": 28,
     "metadata": {},
     "output_type": "execute_result"
    }
   ],
   "source": [
    "model = sm.Logit(y, X)\n",
    "result = model.fit()\n",
    "result.summary()"
   ]
  },
  {
   "cell_type": "code",
   "execution_count": 29,
   "metadata": {},
   "outputs": [
    {
     "name": "stdout",
     "output_type": "stream",
     "text": [
      "Optimization terminated successfully.\n",
      "         Current function value: 0.365105\n",
      "         Iterations 6\n",
      "Variable removed: diabetes 0.9829064606295307\n",
      "Optimization terminated successfully.\n",
      "         Current function value: 0.365105\n",
      "         Iterations 6\n",
      "Variable removed: BPMeds 0.8391377240635544\n",
      "Optimization terminated successfully.\n",
      "         Current function value: 0.365111\n",
      "         Iterations 6\n",
      "Variable removed: totChol 0.5953530469706125\n",
      "Optimization terminated successfully.\n",
      "         Current function value: 0.365150\n",
      "         Iterations 6\n",
      "Variable removed: currentSmoker 0.32364749527015335\n",
      "Optimization terminated successfully.\n",
      "         Current function value: 0.365285\n",
      "         Iterations 6\n"
     ]
    },
    {
     "data": {
      "text/plain": [
       "['male',\n",
       " 'age',\n",
       " 'education',\n",
       " 'cigsPerDay',\n",
       " 'prevalentStroke',\n",
       " 'prevalentHyp',\n",
       " 'sysBP',\n",
       " 'diaBP',\n",
       " 'BMI',\n",
       " 'heartRate',\n",
       " 'glucose']"
      ]
     },
     "execution_count": 29,
     "metadata": {},
     "output_type": "execute_result"
    }
   ],
   "source": [
    "## Backward elimination to drop insignificant variables one by one\n",
    "\n",
    "cols = list(X.columns)\n",
    "p = []\n",
    "while len(cols)>1:\n",
    "    X = X[cols]\n",
    "    model= sm.Logit(y, X).fit().pvalues\n",
    "    p =pd.Series(model.values[1:],index=X.columns[1:])\n",
    "    pmax = max(p)\n",
    "    pid = p.idxmax()\n",
    "    if pmax>0.05:\n",
    "        cols.remove(pid)\n",
    "        print('Variable removed:', pid, pmax)\n",
    "    else:\n",
    "        break\n",
    "cols   "
   ]
  },
  {
   "cell_type": "code",
   "execution_count": 30,
   "metadata": {},
   "outputs": [],
   "source": [
    "# Keeping the significant variables\n",
    "X_sig = df1[['male', 'age', 'education', 'cigsPerDay', 'prevalentStroke', 'prevalentHyp', 'sysBP', 'diaBP', 'BMI',\n",
    "     'heartRate', 'glucose']]"
   ]
  },
  {
   "cell_type": "code",
   "execution_count": 31,
   "metadata": {},
   "outputs": [
    {
     "data": {
      "text/html": [
       "<div>\n",
       "<style scoped>\n",
       "    .dataframe tbody tr th:only-of-type {\n",
       "        vertical-align: middle;\n",
       "    }\n",
       "\n",
       "    .dataframe tbody tr th {\n",
       "        vertical-align: top;\n",
       "    }\n",
       "\n",
       "    .dataframe thead th {\n",
       "        text-align: right;\n",
       "    }\n",
       "</style>\n",
       "<table border=\"1\" class=\"dataframe\">\n",
       "  <thead>\n",
       "    <tr style=\"text-align: right;\">\n",
       "      <th></th>\n",
       "      <th>count</th>\n",
       "      <th>mean</th>\n",
       "      <th>std</th>\n",
       "      <th>min</th>\n",
       "      <th>25%</th>\n",
       "      <th>50%</th>\n",
       "      <th>75%</th>\n",
       "      <th>max</th>\n",
       "    </tr>\n",
       "  </thead>\n",
       "  <tbody>\n",
       "    <tr>\n",
       "      <th>male</th>\n",
       "      <td>3639.0</td>\n",
       "      <td>0.441330</td>\n",
       "      <td>0.496614</td>\n",
       "      <td>0.00</td>\n",
       "      <td>0.000</td>\n",
       "      <td>0.00</td>\n",
       "      <td>1.00</td>\n",
       "      <td>1.0</td>\n",
       "    </tr>\n",
       "    <tr>\n",
       "      <th>age</th>\n",
       "      <td>3639.0</td>\n",
       "      <td>49.017587</td>\n",
       "      <td>8.481116</td>\n",
       "      <td>32.00</td>\n",
       "      <td>42.000</td>\n",
       "      <td>48.00</td>\n",
       "      <td>55.00</td>\n",
       "      <td>70.0</td>\n",
       "    </tr>\n",
       "    <tr>\n",
       "      <th>education</th>\n",
       "      <td>3639.0</td>\n",
       "      <td>1.964551</td>\n",
       "      <td>1.056464</td>\n",
       "      <td>0.00</td>\n",
       "      <td>1.000</td>\n",
       "      <td>2.00</td>\n",
       "      <td>3.00</td>\n",
       "      <td>4.0</td>\n",
       "    </tr>\n",
       "    <tr>\n",
       "      <th>cigsPerDay</th>\n",
       "      <td>3639.0</td>\n",
       "      <td>9.357791</td>\n",
       "      <td>12.056015</td>\n",
       "      <td>0.00</td>\n",
       "      <td>0.000</td>\n",
       "      <td>1.00</td>\n",
       "      <td>20.00</td>\n",
       "      <td>70.0</td>\n",
       "    </tr>\n",
       "    <tr>\n",
       "      <th>prevalentStroke</th>\n",
       "      <td>3639.0</td>\n",
       "      <td>0.004946</td>\n",
       "      <td>0.070166</td>\n",
       "      <td>0.00</td>\n",
       "      <td>0.000</td>\n",
       "      <td>0.00</td>\n",
       "      <td>0.00</td>\n",
       "      <td>1.0</td>\n",
       "    </tr>\n",
       "    <tr>\n",
       "      <th>prevalentHyp</th>\n",
       "      <td>3639.0</td>\n",
       "      <td>0.262160</td>\n",
       "      <td>0.439870</td>\n",
       "      <td>0.00</td>\n",
       "      <td>0.000</td>\n",
       "      <td>0.00</td>\n",
       "      <td>1.00</td>\n",
       "      <td>1.0</td>\n",
       "    </tr>\n",
       "    <tr>\n",
       "      <th>sysBP</th>\n",
       "      <td>3639.0</td>\n",
       "      <td>128.838829</td>\n",
       "      <td>17.894441</td>\n",
       "      <td>83.50</td>\n",
       "      <td>116.000</td>\n",
       "      <td>126.00</td>\n",
       "      <td>140.00</td>\n",
       "      <td>183.0</td>\n",
       "    </tr>\n",
       "    <tr>\n",
       "      <th>diaBP</th>\n",
       "      <td>3639.0</td>\n",
       "      <td>81.436658</td>\n",
       "      <td>10.289450</td>\n",
       "      <td>53.00</td>\n",
       "      <td>74.000</td>\n",
       "      <td>81.00</td>\n",
       "      <td>88.00</td>\n",
       "      <td>110.0</td>\n",
       "    </tr>\n",
       "    <tr>\n",
       "      <th>BMI</th>\n",
       "      <td>3639.0</td>\n",
       "      <td>25.382833</td>\n",
       "      <td>3.455730</td>\n",
       "      <td>16.48</td>\n",
       "      <td>22.935</td>\n",
       "      <td>25.17</td>\n",
       "      <td>27.69</td>\n",
       "      <td>35.2</td>\n",
       "    </tr>\n",
       "    <tr>\n",
       "      <th>heartRate</th>\n",
       "      <td>3639.0</td>\n",
       "      <td>74.637813</td>\n",
       "      <td>10.803541</td>\n",
       "      <td>45.00</td>\n",
       "      <td>67.000</td>\n",
       "      <td>75.00</td>\n",
       "      <td>80.00</td>\n",
       "      <td>104.0</td>\n",
       "    </tr>\n",
       "    <tr>\n",
       "      <th>glucose</th>\n",
       "      <td>3639.0</td>\n",
       "      <td>77.898324</td>\n",
       "      <td>9.801695</td>\n",
       "      <td>53.00</td>\n",
       "      <td>72.000</td>\n",
       "      <td>78.00</td>\n",
       "      <td>84.00</td>\n",
       "      <td>104.0</td>\n",
       "    </tr>\n",
       "  </tbody>\n",
       "</table>\n",
       "</div>"
      ],
      "text/plain": [
       "                  count        mean        std    min      25%     50%  \\\n",
       "male             3639.0    0.441330   0.496614   0.00    0.000    0.00   \n",
       "age              3639.0   49.017587   8.481116  32.00   42.000   48.00   \n",
       "education        3639.0    1.964551   1.056464   0.00    1.000    2.00   \n",
       "cigsPerDay       3639.0    9.357791  12.056015   0.00    0.000    1.00   \n",
       "prevalentStroke  3639.0    0.004946   0.070166   0.00    0.000    0.00   \n",
       "prevalentHyp     3639.0    0.262160   0.439870   0.00    0.000    0.00   \n",
       "sysBP            3639.0  128.838829  17.894441  83.50  116.000  126.00   \n",
       "diaBP            3639.0   81.436658  10.289450  53.00   74.000   81.00   \n",
       "BMI              3639.0   25.382833   3.455730  16.48   22.935   25.17   \n",
       "heartRate        3639.0   74.637813  10.803541  45.00   67.000   75.00   \n",
       "glucose          3639.0   77.898324   9.801695  53.00   72.000   78.00   \n",
       "\n",
       "                    75%    max  \n",
       "male               1.00    1.0  \n",
       "age               55.00   70.0  \n",
       "education          3.00    4.0  \n",
       "cigsPerDay        20.00   70.0  \n",
       "prevalentStroke    0.00    1.0  \n",
       "prevalentHyp       1.00    1.0  \n",
       "sysBP            140.00  183.0  \n",
       "diaBP             88.00  110.0  \n",
       "BMI               27.69   35.2  \n",
       "heartRate         80.00  104.0  \n",
       "glucose           84.00  104.0  "
      ]
     },
     "execution_count": 31,
     "metadata": {},
     "output_type": "execute_result"
    }
   ],
   "source": [
    "X_sig.describe().T"
   ]
  },
  {
   "cell_type": "markdown",
   "metadata": {},
   "source": [
    "### Standardization due to variation in scales:"
   ]
  },
  {
   "cell_type": "code",
   "execution_count": 34,
   "metadata": {},
   "outputs": [],
   "source": [
    "from sklearn.preprocessing import StandardScaler\n",
    "scaler = StandardScaler() \n",
    "X_sig = scaler.fit_transform(X_sig)"
   ]
  },
  {
   "cell_type": "code",
   "execution_count": 35,
   "metadata": {},
   "outputs": [
    {
     "name": "stdout",
     "output_type": "stream",
     "text": [
      "Optimization terminated successfully.\n",
      "         Current function value: 0.675400\n",
      "         Iterations 5\n"
     ]
    },
    {
     "data": {
      "text/html": [
       "<table class=\"simpletable\">\n",
       "<caption>Logit Regression Results</caption>\n",
       "<tr>\n",
       "  <th>Dep. Variable:</th>      <td>TenYearCHD</td>    <th>  No. Observations:  </th>  <td>  3639</td> \n",
       "</tr>\n",
       "<tr>\n",
       "  <th>Model:</th>                 <td>Logit</td>      <th>  Df Residuals:      </th>  <td>  3628</td> \n",
       "</tr>\n",
       "<tr>\n",
       "  <th>Method:</th>                 <td>MLE</td>       <th>  Df Model:          </th>  <td>    10</td> \n",
       "</tr>\n",
       "<tr>\n",
       "  <th>Date:</th>            <td>Mon, 14 Sep 2020</td> <th>  Pseudo R-squ.:     </th>  <td>-0.7227</td>\n",
       "</tr>\n",
       "<tr>\n",
       "  <th>Time:</th>                <td>16:26:44</td>     <th>  Log-Likelihood:    </th> <td> -2457.8</td>\n",
       "</tr>\n",
       "<tr>\n",
       "  <th>converged:</th>             <td>True</td>       <th>  LL-Null:           </th> <td> -1426.7</td>\n",
       "</tr>\n",
       "<tr>\n",
       "  <th>Covariance Type:</th>     <td>nonrobust</td>    <th>  LLR p-value:       </th>  <td> 1.000</td> \n",
       "</tr>\n",
       "</table>\n",
       "<table class=\"simpletable\">\n",
       "<tr>\n",
       "   <td></td>      <th>coef</th>     <th>std err</th>      <th>z</th>      <th>P>|z|</th>  <th>[0.025</th>    <th>0.975]</th>  \n",
       "</tr>\n",
       "<tr>\n",
       "  <th>x1</th>  <td>    0.1072</td> <td>    0.037</td> <td>    2.897</td> <td> 0.004</td> <td>    0.035</td> <td>    0.180</td>\n",
       "</tr>\n",
       "<tr>\n",
       "  <th>x2</th>  <td>    0.2538</td> <td>    0.038</td> <td>    6.661</td> <td> 0.000</td> <td>    0.179</td> <td>    0.328</td>\n",
       "</tr>\n",
       "<tr>\n",
       "  <th>x3</th>  <td>   -0.0038</td> <td>    0.034</td> <td>   -0.111</td> <td> 0.912</td> <td>   -0.071</td> <td>    0.064</td>\n",
       "</tr>\n",
       "<tr>\n",
       "  <th>x4</th>  <td>    0.1115</td> <td>    0.037</td> <td>    3.013</td> <td> 0.003</td> <td>    0.039</td> <td>    0.184</td>\n",
       "</tr>\n",
       "<tr>\n",
       "  <th>x5</th>  <td>    0.0862</td> <td>    0.043</td> <td>    2.000</td> <td> 0.046</td> <td>    0.002</td> <td>    0.171</td>\n",
       "</tr>\n",
       "<tr>\n",
       "  <th>x6</th>  <td>    0.0560</td> <td>    0.047</td> <td>    1.187</td> <td> 0.235</td> <td>   -0.036</td> <td>    0.148</td>\n",
       "</tr>\n",
       "<tr>\n",
       "  <th>x7</th>  <td>    0.1680</td> <td>    0.062</td> <td>    2.709</td> <td> 0.007</td> <td>    0.046</td> <td>    0.290</td>\n",
       "</tr>\n",
       "<tr>\n",
       "  <th>x8</th>  <td>   -0.0835</td> <td>    0.055</td> <td>   -1.508</td> <td> 0.132</td> <td>   -0.192</td> <td>    0.025</td>\n",
       "</tr>\n",
       "<tr>\n",
       "  <th>x9</th>  <td>    0.0029</td> <td>    0.037</td> <td>    0.079</td> <td> 0.937</td> <td>   -0.069</td> <td>    0.075</td>\n",
       "</tr>\n",
       "<tr>\n",
       "  <th>x10</th> <td>    0.0106</td> <td>    0.035</td> <td>    0.302</td> <td> 0.762</td> <td>   -0.058</td> <td>    0.079</td>\n",
       "</tr>\n",
       "<tr>\n",
       "  <th>x11</th> <td>   -0.0169</td> <td>    0.034</td> <td>   -0.495</td> <td> 0.621</td> <td>   -0.084</td> <td>    0.050</td>\n",
       "</tr>\n",
       "</table>"
      ],
      "text/plain": [
       "<class 'statsmodels.iolib.summary.Summary'>\n",
       "\"\"\"\n",
       "                           Logit Regression Results                           \n",
       "==============================================================================\n",
       "Dep. Variable:             TenYearCHD   No. Observations:                 3639\n",
       "Model:                          Logit   Df Residuals:                     3628\n",
       "Method:                           MLE   Df Model:                           10\n",
       "Date:                Mon, 14 Sep 2020   Pseudo R-squ.:                 -0.7227\n",
       "Time:                        16:26:44   Log-Likelihood:                -2457.8\n",
       "converged:                       True   LL-Null:                       -1426.7\n",
       "Covariance Type:            nonrobust   LLR p-value:                     1.000\n",
       "==============================================================================\n",
       "                 coef    std err          z      P>|z|      [0.025      0.975]\n",
       "------------------------------------------------------------------------------\n",
       "x1             0.1072      0.037      2.897      0.004       0.035       0.180\n",
       "x2             0.2538      0.038      6.661      0.000       0.179       0.328\n",
       "x3            -0.0038      0.034     -0.111      0.912      -0.071       0.064\n",
       "x4             0.1115      0.037      3.013      0.003       0.039       0.184\n",
       "x5             0.0862      0.043      2.000      0.046       0.002       0.171\n",
       "x6             0.0560      0.047      1.187      0.235      -0.036       0.148\n",
       "x7             0.1680      0.062      2.709      0.007       0.046       0.290\n",
       "x8            -0.0835      0.055     -1.508      0.132      -0.192       0.025\n",
       "x9             0.0029      0.037      0.079      0.937      -0.069       0.075\n",
       "x10            0.0106      0.035      0.302      0.762      -0.058       0.079\n",
       "x11           -0.0169      0.034     -0.495      0.621      -0.084       0.050\n",
       "==============================================================================\n",
       "\"\"\""
      ]
     },
     "execution_count": 35,
     "metadata": {},
     "output_type": "execute_result"
    }
   ],
   "source": [
    "# using significant feature\n",
    "model = sm.Logit(y, X_sig)\n",
    "result = model.fit()\n",
    "result.summary()"
   ]
  },
  {
   "cell_type": "markdown",
   "metadata": {},
   "source": [
    "### Splitting the data into train and test with significant features:"
   ]
  },
  {
   "cell_type": "code",
   "execution_count": 36,
   "metadata": {},
   "outputs": [],
   "source": [
    "from sklearn.model_selection import train_test_split\n",
    "\n",
    "X_train, X_test, y_train, y_test = train_test_split(X_sig, y, test_size=0.30, random_state=1)"
   ]
  },
  {
   "cell_type": "markdown",
   "metadata": {},
   "source": [
    "### Logestic Regression:"
   ]
  },
  {
   "cell_type": "code",
   "execution_count": 37,
   "metadata": {},
   "outputs": [
    {
     "name": "stdout",
     "output_type": "stream",
     "text": [
      "Confusion Matrix - Train:  \n",
      " [[2204    4]\n",
      " [ 329   10]]\n",
      "\n",
      "Overall accuracy - Train:  0.8692579505300353\n",
      "\n",
      "Confusion Matrix - Test:  \n",
      " [[945   2]\n",
      " [140   5]]\n",
      "\n",
      "Overall accuracy - Test:  \n",
      " 0.86996336996337\n",
      "\n",
      "Classification report for test:\n",
      "               precision    recall  f1-score   support\n",
      "\n",
      "           0       0.87      1.00      0.93       947\n",
      "           1       0.71      0.03      0.07       145\n",
      "\n",
      "    accuracy                           0.87      1092\n",
      "   macro avg       0.79      0.52      0.50      1092\n",
      "weighted avg       0.85      0.87      0.82      1092\n",
      "\n"
     ]
    }
   ],
   "source": [
    "from sklearn.linear_model import LogisticRegression\n",
    "from sklearn.metrics import confusion_matrix, accuracy_score, classification_report\n",
    "\n",
    "logreg = LogisticRegression(solver='liblinear', fit_intercept=True) \n",
    "\n",
    "logreg.fit(X_train, y_train)\n",
    "\n",
    "y_prob_train = logreg.predict_proba(X_train)[:,1]\n",
    "y_pred_train = logreg.predict (X_train)\n",
    "\n",
    "print('Confusion Matrix - Train: ', '\\n', confusion_matrix(y_train, y_pred_train))\n",
    "print('\\nOverall accuracy - Train: ', accuracy_score(y_train, y_pred_train))\n",
    "\n",
    "\n",
    "y_prob = logreg.predict_proba(X_test)[:,1]\n",
    "y_pred = logreg.predict (X_test)\n",
    "\n",
    "print('\\nConfusion Matrix - Test: ','\\n', confusion_matrix(y_test, y_pred))\n",
    "print('\\nOverall accuracy - Test: ','\\n', accuracy_score(y_test, y_pred))\n",
    "print('\\nClassification report for test:\\n',classification_report(y_test,y_pred))"
   ]
  },
  {
   "cell_type": "markdown",
   "metadata": {},
   "source": [
    "- Since the F1-score for 1 is 0 even though for 0 is 0.93, the model cannot be accepted. Hence imbalance data should be treated."
   ]
  },
  {
   "cell_type": "markdown",
   "metadata": {},
   "source": [
    "### Over-sampling using SMOTE:"
   ]
  },
  {
   "cell_type": "code",
   "execution_count": 38,
   "metadata": {},
   "outputs": [],
   "source": [
    "from imblearn.over_sampling import SMOTE\n",
    "\n",
    "smote = SMOTE(random_state=1)"
   ]
  },
  {
   "cell_type": "code",
   "execution_count": 39,
   "metadata": {},
   "outputs": [],
   "source": [
    "X_train_sm, y_train_sm = smote.fit_resample(X_train,y_train)"
   ]
  },
  {
   "cell_type": "markdown",
   "metadata": {},
   "source": [
    "### Creating model after oversamplying:"
   ]
  },
  {
   "cell_type": "code",
   "execution_count": 40,
   "metadata": {},
   "outputs": [
    {
     "name": "stdout",
     "output_type": "stream",
     "text": [
      "Confusion Matrix - Train:  \n",
      " [[1440  768]\n",
      " [ 728 1480]]\n",
      "\n",
      "Overall accuracy - Train:  0.6612318840579711\n",
      "\n",
      "Confusion Matrix - Test:  \n",
      " [[675 272]\n",
      " [ 46  99]]\n",
      "\n",
      "Overall accuracy - Test:  0.7087912087912088\n",
      "\n",
      "Classification report for test:\n",
      "               precision    recall  f1-score   support\n",
      "\n",
      "           0       0.94      0.71      0.81       947\n",
      "           1       0.27      0.68      0.38       145\n",
      "\n",
      "    accuracy                           0.71      1092\n",
      "   macro avg       0.60      0.70      0.60      1092\n",
      "weighted avg       0.85      0.71      0.75      1092\n",
      "\n"
     ]
    }
   ],
   "source": [
    "logreg_sm = LogisticRegression(solver='liblinear', fit_intercept=True) \n",
    "\n",
    "logreg_sm.fit(X_train_sm, y_train_sm)\n",
    "\n",
    "y_prob_train = logreg_sm.predict_proba(X_train_sm)[:,1]\n",
    "y_pred_train = logreg_sm.predict (X_train_sm)\n",
    "\n",
    "print('Confusion Matrix - Train: ', '\\n', confusion_matrix(y_train_sm, y_pred_train))\n",
    "print('\\nOverall accuracy - Train: ', accuracy_score(y_train_sm, y_pred_train))\n",
    "\n",
    "\n",
    "y_prob = logreg_sm.predict_proba(X_test)[:,1]\n",
    "y_pred = logreg_sm.predict (X_test)\n",
    "\n",
    "print('\\nConfusion Matrix - Test: ','\\n', confusion_matrix(y_test, y_pred))\n",
    "print('\\nOverall accuracy - Test: ', accuracy_score(y_test, y_pred))\n",
    "print('\\nClassification report for test:\\n',classification_report(y_test,y_pred))"
   ]
  },
  {
   "cell_type": "markdown",
   "metadata": {},
   "source": [
    "### Decision Tree:"
   ]
  },
  {
   "cell_type": "code",
   "execution_count": 41,
   "metadata": {},
   "outputs": [
    {
     "name": "stdout",
     "output_type": "stream",
     "text": [
      "Classification report for test:\n",
      "               precision    recall  f1-score   support\n",
      "\n",
      "           0       0.87      0.81      0.84       947\n",
      "           1       0.15      0.23      0.18       145\n",
      "\n",
      "    accuracy                           0.73      1092\n",
      "   macro avg       0.51      0.52      0.51      1092\n",
      "weighted avg       0.78      0.73      0.75      1092\n",
      "\n"
     ]
    }
   ],
   "source": [
    "from sklearn.tree import DecisionTreeClassifier\n",
    "\n",
    "dt = DecisionTreeClassifier()\n",
    "dt.fit(X_train_sm, y_train_sm)\n",
    "\n",
    "y_pred_train = dt.predict(X_train_sm)\n",
    "y_pred = dt.predict(X_test)\n",
    "y_prob = dt.predict_proba(X_test)\n",
    "\n",
    "print('Classification report for test:\\n',classification_report(y_test,y_pred))"
   ]
  },
  {
   "cell_type": "markdown",
   "metadata": {},
   "source": [
    "#### Hyperparameter Tuning(GridSearch):"
   ]
  },
  {
   "cell_type": "code",
   "execution_count": 42,
   "metadata": {},
   "outputs": [],
   "source": [
    "from sklearn.model_selection import GridSearchCV, RandomizedSearchCV"
   ]
  },
  {
   "cell_type": "code",
   "execution_count": 43,
   "metadata": {},
   "outputs": [
    {
     "data": {
      "text/plain": [
       "{'max_depth': 2, 'min_samples_leaf': 1, 'min_samples_split': 2}"
      ]
     },
     "execution_count": 43,
     "metadata": {},
     "output_type": "execute_result"
    }
   ],
   "source": [
    "dt = DecisionTreeClassifier()\n",
    "\n",
    "params = {'max_depth' : [2,3,4,5,6,7,8],\n",
    "        'min_samples_split': [2,3,4,5,6,7,8,9,10],\n",
    "        'min_samples_leaf': [1,2,3,4,5,6,7,8,9,10]}\n",
    "\n",
    "gsearch = GridSearchCV(dt, param_grid=params, cv=3)\n",
    "\n",
    "gsearch.fit(X,y)\n",
    "\n",
    "gsearch.best_params_"
   ]
  },
  {
   "cell_type": "code",
   "execution_count": 44,
   "metadata": {},
   "outputs": [
    {
     "name": "stdout",
     "output_type": "stream",
     "text": [
      "\n",
      "Classification report for test:\n",
      "               precision    recall  f1-score   support\n",
      "\n",
      "           0       0.94      0.50      0.65       947\n",
      "           1       0.19      0.78      0.31       145\n",
      "\n",
      "    accuracy                           0.54      1092\n",
      "   macro avg       0.57      0.64      0.48      1092\n",
      "weighted avg       0.84      0.54      0.61      1092\n",
      "\n"
     ]
    }
   ],
   "source": [
    "# DT using best parameters\n",
    "dt = DecisionTreeClassifier(**gsearch.best_params_)\n",
    "\n",
    "dt.fit(X_train_sm, y_train_sm)\n",
    "\n",
    "y_pred_train = dt.predict(X_train_sm)\n",
    "y_prob_train = dt.predict_proba(X_train_sm)[:,1]\n",
    "\n",
    "y_pred = dt.predict(X_test)\n",
    "y_prob = dt.predict_proba(X_test)[:,1]\n",
    "\n",
    "print('\\nClassification report for test:\\n',classification_report(y_test,y_pred))"
   ]
  },
  {
   "cell_type": "markdown",
   "metadata": {},
   "source": [
    "#### HyperParameter Tuning(Randomsearch):"
   ]
  },
  {
   "cell_type": "code",
   "execution_count": 45,
   "metadata": {},
   "outputs": [
    {
     "name": "stdout",
     "output_type": "stream",
     "text": [
      "{'criterion': 'entropy', 'max_depth': 3, 'min_samples_leaf': 12, 'min_samples_split': 7}\n"
     ]
    }
   ],
   "source": [
    "from scipy.stats import randint as sp_randint\n",
    "\n",
    "dt = DecisionTreeClassifier(random_state=1)\n",
    "\n",
    "params = {'max_depth' : sp_randint(2,10),\n",
    "        'min_samples_split': sp_randint(2,50),\n",
    "        'min_samples_leaf': sp_randint(1,20),\n",
    "         'criterion':['gini', 'entropy']}\n",
    "\n",
    "rand_search = RandomizedSearchCV(dt, param_distributions=params, cv=3, \n",
    "                                 random_state=1)\n",
    "\n",
    "rand_search.fit(X, y)\n",
    "print(rand_search.best_params_)"
   ]
  },
  {
   "cell_type": "code",
   "execution_count": 46,
   "metadata": {},
   "outputs": [
    {
     "name": "stdout",
     "output_type": "stream",
     "text": [
      "Classification report for test:\n",
      "               precision    recall  f1-score   support\n",
      "\n",
      "           0       0.92      0.61      0.74       947\n",
      "           1       0.20      0.63      0.31       145\n",
      "\n",
      "    accuracy                           0.62      1092\n",
      "   macro avg       0.56      0.62      0.52      1092\n",
      "weighted avg       0.82      0.62      0.68      1092\n",
      "\n"
     ]
    }
   ],
   "source": [
    "# DT using best parameters\n",
    "dt = DecisionTreeClassifier(**rand_search.best_params_)\n",
    "\n",
    "dt.fit(X_train_sm, y_train_sm)\n",
    "\n",
    "y_pred_train = dt.predict(X_train_sm)\n",
    "y_prob_train = dt.predict_proba(X_train_sm)[:,1]\n",
    "\n",
    "y_pred = dt.predict(X_test)\n",
    "y_prob = dt.predict_proba(X_test)[:,1]\n",
    "\n",
    "print('Classification report for test:\\n',classification_report(y_test,y_pred))"
   ]
  },
  {
   "cell_type": "markdown",
   "metadata": {},
   "source": [
    "### Random Forest Classifier:"
   ]
  },
  {
   "cell_type": "code",
   "execution_count": 47,
   "metadata": {},
   "outputs": [
    {
     "name": "stdout",
     "output_type": "stream",
     "text": [
      "Classification report for test:\n",
      "               precision    recall  f1-score   support\n",
      "\n",
      "           0       0.88      0.93      0.90       947\n",
      "           1       0.28      0.19      0.22       145\n",
      "\n",
      "    accuracy                           0.83      1092\n",
      "   macro avg       0.58      0.56      0.56      1092\n",
      "weighted avg       0.80      0.83      0.81      1092\n",
      "\n"
     ]
    }
   ],
   "source": [
    "from sklearn.ensemble import RandomForestClassifier\n",
    "\n",
    "rfc = RandomForestClassifier(n_estimators=10, random_state=1)\n",
    "\n",
    "rfc.fit(X_train_sm, y_train_sm)\n",
    "\n",
    "y_pred_train = rfc.predict(X_train_sm)\n",
    "y_prob_train = rfc.predict_proba(X_train_sm)[:,1]\n",
    "\n",
    "y_pred = rfc.predict(X_test)\n",
    "y_prob = rfc.predict_proba(X_test)[:,1]\n",
    "\n",
    "print('Classification report for test:\\n',classification_report(y_test,y_pred))\n"
   ]
  },
  {
   "cell_type": "markdown",
   "metadata": {},
   "source": [
    "#### Hyperparameter Tuning of Random Forest:"
   ]
  },
  {
   "cell_type": "code",
   "execution_count": 48,
   "metadata": {},
   "outputs": [
    {
     "name": "stdout",
     "output_type": "stream",
     "text": [
      "{'criterion': 'gini', 'max_depth': 7, 'max_features': 3, 'min_samples_leaf': 4, 'min_samples_split': 6, 'n_estimators': 22}\n"
     ]
    }
   ],
   "source": [
    "from scipy.stats import randint as sp_randint\n",
    "\n",
    "rfc = RandomForestClassifier(random_state=1)\n",
    "\n",
    "params = {'n_estimators': sp_randint(5,25),\n",
    "    'criterion': ['gini', 'entropy'],\n",
    "    'max_depth': sp_randint(2, 10),\n",
    "    'min_samples_split': sp_randint(2,20),\n",
    "    'min_samples_leaf': sp_randint(1, 20),\n",
    "    'max_features': sp_randint(2,15)}\n",
    "\n",
    "rand_search_rfc = RandomizedSearchCV(rfc, param_distributions=params,\n",
    "                                 cv=3, random_state=1)\n",
    "\n",
    "rand_search_rfc.fit(X, y)\n",
    "print(rand_search_rfc.best_params_)"
   ]
  },
  {
   "cell_type": "code",
   "execution_count": 49,
   "metadata": {},
   "outputs": [
    {
     "name": "stdout",
     "output_type": "stream",
     "text": [
      "Classification report for test:\n",
      "               precision    recall  f1-score   support\n",
      "\n",
      "           0       0.90      0.79      0.84       947\n",
      "           1       0.24      0.44      0.31       145\n",
      "\n",
      "    accuracy                           0.74      1092\n",
      "   macro avg       0.57      0.61      0.58      1092\n",
      "weighted avg       0.81      0.74      0.77      1092\n",
      "\n"
     ]
    }
   ],
   "source": [
    "# RFC using best parameters\n",
    "rfc = RandomForestClassifier(**rand_search_rfc.best_params_)\n",
    "\n",
    "rfc.fit(X_train_sm, y_train_sm)\n",
    "\n",
    "y_pred_train = rfc.predict(X_train_sm)\n",
    "y_prob_train = rfc.predict_proba(X_train_sm)[:,1]\n",
    "\n",
    "y_pred = rfc.predict(X_test)\n",
    "y_prob = rfc.predict_proba(X_test)[:,1]\n",
    "\n",
    "print('Classification report for test:\\n',classification_report(y_test,y_pred))"
   ]
  },
  {
   "cell_type": "markdown",
   "metadata": {},
   "source": [
    "## k-NN Classifier:"
   ]
  },
  {
   "cell_type": "code",
   "execution_count": 50,
   "metadata": {},
   "outputs": [],
   "source": [
    "from sklearn.neighbors import KNeighborsClassifier\n",
    "knn = KNeighborsClassifier()"
   ]
  },
  {
   "cell_type": "code",
   "execution_count": 51,
   "metadata": {},
   "outputs": [
    {
     "name": "stdout",
     "output_type": "stream",
     "text": [
      "Classification report for test:\n",
      "               precision    recall  f1-score   support\n",
      "\n",
      "           0       0.90      0.67      0.76       947\n",
      "           1       0.19      0.50      0.27       145\n",
      "\n",
      "    accuracy                           0.64      1092\n",
      "   macro avg       0.54      0.58      0.52      1092\n",
      "weighted avg       0.80      0.64      0.70      1092\n",
      "\n"
     ]
    }
   ],
   "source": [
    "knn.fit(X_train_sm, y_train_sm)\n",
    "\n",
    "y_pred_train = knn.predict(X_train_sm)\n",
    "y_prob_train = knn.predict_proba(X_train_sm)[:,1]\n",
    "\n",
    "y_pred = knn.predict(X_test)\n",
    "y_prob = knn.predict_proba(X_test)[:,1]\n",
    "\n",
    "print('Classification report for test:\\n',classification_report(y_test,y_pred))"
   ]
  },
  {
   "cell_type": "markdown",
   "metadata": {},
   "source": [
    "#### Tuning:"
   ]
  },
  {
   "cell_type": "code",
   "execution_count": 52,
   "metadata": {},
   "outputs": [
    {
     "name": "stdout",
     "output_type": "stream",
     "text": [
      "{'criterion': 'entropy', 'max_depth': 3, 'min_samples_leaf': 12, 'min_samples_split': 7}\n"
     ]
    }
   ],
   "source": [
    "knn = KNeighborsClassifier()\n",
    "\n",
    "params = {'n_neighbors': sp_randint(1,25),\n",
    "        'p': sp_randint(1,5)}\n",
    "\n",
    "rand_search_knn = RandomizedSearchCV(knn, param_distributions=params,\n",
    "                                 cv=3, random_state=1)\n",
    "rand_search_knn.fit(X, y)\n",
    "print(rand_search.best_params_)"
   ]
  },
  {
   "cell_type": "code",
   "execution_count": 53,
   "metadata": {},
   "outputs": [
    {
     "name": "stdout",
     "output_type": "stream",
     "text": [
      "Classification report for test:\n",
      "               precision    recall  f1-score   support\n",
      "\n",
      "           0       0.91      0.64      0.75       947\n",
      "           1       0.20      0.60      0.30       145\n",
      "\n",
      "    accuracy                           0.63      1092\n",
      "   macro avg       0.56      0.62      0.53      1092\n",
      "weighted avg       0.82      0.63      0.69      1092\n",
      "\n"
     ]
    }
   ],
   "source": [
    "# KNN using best parameters\n",
    "\n",
    "knn = KNeighborsClassifier(**rand_search_knn.best_params_)\n",
    "\n",
    "knn.fit(X_train_sm, y_train_sm)\n",
    "\n",
    "y_pred_train = knn.predict(X_train_sm)\n",
    "y_prob_train = knn.predict_proba(X_train_sm)[:,1]\n",
    "\n",
    "y_pred = knn.predict(X_test)\n",
    "y_prob = knn.predict_proba(X_test)[:,1]\n",
    "\n",
    "print('Classification report for test:\\n',classification_report(y_test,y_pred))"
   ]
  },
  {
   "cell_type": "markdown",
   "metadata": {},
   "source": [
    "## Stacking Algorithms"
   ]
  },
  {
   "cell_type": "code",
   "execution_count": 54,
   "metadata": {},
   "outputs": [],
   "source": [
    "from sklearn.ensemble import VotingClassifier\n",
    "from sklearn.linear_model import LogisticRegression"
   ]
  },
  {
   "cell_type": "code",
   "execution_count": 55,
   "metadata": {},
   "outputs": [],
   "source": [
    "lr = LogisticRegression(solver='liblinear')\n",
    "dt = DecisionTreeClassifier(**rand_search.best_params_)\n",
    "rfc = RandomForestClassifier(**rand_search_rfc.best_params_)\n",
    "knn = KNeighborsClassifier(**rand_search_knn.best_params_)"
   ]
  },
  {
   "cell_type": "code",
   "execution_count": 56,
   "metadata": {},
   "outputs": [],
   "source": [
    "# Without using weights\n",
    "clf = VotingClassifier(estimators=[('lr',lr), ('dt',dt),('rfc',rfc), ('knn',knn)], \n",
    "                       voting='soft')\n",
    "clf.fit(X_train_sm, y_train_sm)\n",
    "y_pred_train = clf.predict(X_train_sm)\n",
    "y_prob_train = clf.predict_proba(X_train_sm)[:,1]\n",
    "\n",
    "y_pred = clf.predict(X_test)\n",
    "y_prob = clf.predict_proba(X_test)[:,1]"
   ]
  },
  {
   "cell_type": "code",
   "execution_count": 57,
   "metadata": {},
   "outputs": [
    {
     "name": "stdout",
     "output_type": "stream",
     "text": [
      "Classification report for test:\n",
      "               precision    recall  f1-score   support\n",
      "\n",
      "           0       0.92      0.70      0.79       947\n",
      "           1       0.24      0.61      0.34       145\n",
      "\n",
      "    accuracy                           0.69      1092\n",
      "   macro avg       0.58      0.66      0.57      1092\n",
      "weighted avg       0.83      0.69      0.73      1092\n",
      "\n"
     ]
    }
   ],
   "source": [
    "print('Classification report for test:\\n',classification_report(y_test,y_pred))"
   ]
  },
  {
   "cell_type": "code",
   "execution_count": 58,
   "metadata": {},
   "outputs": [],
   "source": [
    "# Using weights\n",
    "clf = VotingClassifier(estimators=[('lr',lr),('dt',dt) ,('rfc',rfc), ('knn',knn)], \n",
    "                       voting='soft', weights=[4,1,3,2])\n",
    "clf.fit(X_train_sm, y_train_sm)\n",
    "y_pred_train = clf.predict(X_train_sm)\n",
    "y_prob_train = clf.predict_proba(X_train_sm)[:,1]\n",
    "\n",
    "y_pred = clf.predict(X_test)\n",
    "y_prob = clf.predict_proba(X_test)[:,1]"
   ]
  },
  {
   "cell_type": "code",
   "execution_count": 59,
   "metadata": {},
   "outputs": [
    {
     "name": "stdout",
     "output_type": "stream",
     "text": [
      "Classification report for test:\n",
      "               precision    recall  f1-score   support\n",
      "\n",
      "           0       0.93      0.73      0.82       947\n",
      "           1       0.26      0.61      0.37       145\n",
      "\n",
      "    accuracy                           0.72      1092\n",
      "   macro avg       0.59      0.67      0.59      1092\n",
      "weighted avg       0.84      0.72      0.76      1092\n",
      "\n"
     ]
    }
   ],
   "source": [
    "print('Classification report for test:\\n',classification_report(y_test,y_pred))"
   ]
  },
  {
   "cell_type": "markdown",
   "metadata": {},
   "source": [
    "- Stacking algoriths with weights gives the best f1-score."
   ]
  }
 ],
 "metadata": {
  "kernelspec": {
   "display_name": "Python 3",
   "language": "python",
   "name": "python3"
  },
  "language_info": {
   "codemirror_mode": {
    "name": "ipython",
    "version": 3
   },
   "file_extension": ".py",
   "mimetype": "text/x-python",
   "name": "python",
   "nbconvert_exporter": "python",
   "pygments_lexer": "ipython3",
   "version": "3.7.7"
  }
 },
 "nbformat": 4,
 "nbformat_minor": 2
}
